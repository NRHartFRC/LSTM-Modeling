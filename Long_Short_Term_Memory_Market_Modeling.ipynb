{
  "nbformat": 4,
  "nbformat_minor": 0,
  "metadata": {
    "colab": {
      "provenance": [],
      "include_colab_link": true
    },
    "kernelspec": {
      "display_name": "Python 3",
      "name": "python3"
    }
  },
  "cells": [
    {
      "cell_type": "markdown",
      "metadata": {
        "id": "view-in-github",
        "colab_type": "text"
      },
      "source": [
        "<a href=\"https://colab.research.google.com/github/NRHartFRC/LSTM-Modeling/blob/main/Long_Short_Term_Memory_Market_Modeling.ipynb\" target=\"_parent\"><img src=\"https://colab.research.google.com/assets/colab-badge.svg\" alt=\"Open In Colab\"/></a>"
      ]
    },
    {
      "cell_type": "markdown",
      "source": [
        "# Long Short Term Memory AI Modeling with Keras (TensorFlow API)"
      ],
      "metadata": {
        "id": "iSN_WlsVxhVB"
      }
    },
    {
      "cell_type": "markdown",
      "source": [
        "#### **Description:** this program will attempt to predict the expected price for the following day using Long Short Term Memory method provided by Keras sequential API for deep learning applications. The program captures a dataset for a given `tag` or ticker symbol from Yahoo Finance API (from a specified `start` and `end` date), trains model using a generational neural network on the given dataset, then outputs both a plot, and the predicted output price for the following day."
      ],
      "metadata": {
        "id": "gCf9Ghegx-hT"
      }
    },
    {
      "cell_type": "markdown",
      "source": [
        "**Author Information:**\n",
        "- **Name:** Nicholas Rombach\n",
        "- **GitHub:** [NRHartFRC](https://github.com/nrhartfrc)\n"
      ],
      "metadata": {
        "id": "cWC_JU58eRbS"
      }
    },
    {
      "cell_type": "markdown",
      "source": [
        "## **License**\n",
        "<a rel=\"license\" href=\"https://choosealicense.com/licenses/gpl-3.0/\"><img alt=\"Creative Commons License\" style=\"border-width:0\" src=\"https://www.gnu.org/graphics/gplv3-with-text-136x68.png\" /></a><br />This work is licensed under a <a rel=\"license\" href=\"https://choosealicense.com/licenses/gpl-3.0/\">GNU General Public License v3.0</a>"
      ],
      "metadata": {
        "id": "dplMlkB7Xhc8"
      }
    },
    {
      "cell_type": "markdown",
      "source": [
        "# **Configuration**"
      ],
      "metadata": {
        "id": "t4367kLPxzXd"
      }
    },
    {
      "cell_type": "markdown",
      "source": [
        "Optionals"
      ],
      "metadata": {
        "id": "YYmb3EAM6llM"
      }
    },
    {
      "cell_type": "code",
      "source": [
        "#!pip show pandas_datareader\n",
        "#!pip install --upgrade pandas_datareader\n",
        "#!pip install pycryptodome pycryptodomex"
      ],
      "metadata": {
        "id": "F-4J2Sei6gkz"
      },
      "execution_count": null,
      "outputs": []
    },
    {
      "cell_type": "markdown",
      "source": [
        "Required (Run once)"
      ],
      "metadata": {
        "id": "C7isED4N6oPb"
      }
    },
    {
      "cell_type": "code",
      "source": [
        "\n",
        "#!pip uninstall --yes pandas-datareader\n",
        "#!pip install --upgrade pycryptodome pycryptodomex\n",
        "#!pip install git+https://github.com/raphi6/pandas-datareader.git@ea66d6b981554f9d0262038aef2106dda7138316 #modified pandas-datareader daily.py to decrypt AES output\n",
        "#!pip install yfinance"
      ],
      "metadata": {
        "id": "Iutpy8Wj_S8_"
      },
      "execution_count": null,
      "outputs": []
    },
    {
      "cell_type": "markdown",
      "source": [
        "## Imports, depenencies and libraries"
      ],
      "metadata": {
        "id": "09VmQkKf3Bcr"
      }
    },
    {
      "cell_type": "code",
      "source": [
        "import pandas as pd\n",
        "from pandas_datareader import data as pdr\n",
        "import yfinance as yfin\n",
        "yfin.pdr_override()"
      ],
      "metadata": {
        "id": "sDi7jaxn25e5"
      },
      "execution_count": null,
      "outputs": []
    },
    {
      "cell_type": "code",
      "metadata": {
        "id": "TLZY6uJcIoNK"
      },
      "source": [
        "import numpy as np\n",
        "import matplotlib.pyplot as plt\n",
        "from matplotlib.dates import DayLocator, DateFormatter  # Import DayLocator and DateFormatter\n",
        "import math\n",
        "from datetime import datetime, timedelta\n",
        "\n",
        "from sklearn.preprocessing import MinMaxScaler\n",
        "from keras.models import Sequential\n",
        "from keras.optimizers import SGD\n",
        "from keras.layers import Dense, LSTM, Dropout, BatchNormalization\n",
        "from keras.callbacks import EarlyStopping\n",
        "plt.style.use('fivethirtyeight')\n",
        "#pdr.__version__"
      ],
      "execution_count": null,
      "outputs": []
    },
    {
      "cell_type": "markdown",
      "source": [
        "## User Entered Data\n",
        "\n",
        "1.   `tag` = ticker, or sybol for equity, stock, ETF, crypto, etc.\n",
        "2.   `start` = start date in the format YYYY-MM-DD\n",
        "3.   `end` = end date in the format YYYY-MM-DD (use one day ahead)\n",
        "4.   `batch_size` = number of iterations per epochs (generations)\n",
        "5.   `epochs` = number of genarations in the sequential learning model\n"
      ],
      "metadata": {
        "id": "L8KV0Ro33HHL"
      }
    },
    {
      "cell_type": "code",
      "source": [
        "tag = 'JOBY'\n",
        "start = '2023-02-04'\n",
        "end = '2023-09-18'\n",
        "batch_size=32 #was 32\n",
        "epochs=10 #was 10"
      ],
      "metadata": {
        "id": "zVqamg2d4y6f"
      },
      "execution_count": null,
      "outputs": []
    },
    {
      "cell_type": "code",
      "source": [
        "# native end date\n",
        "entered_end = end\n",
        "\n",
        "# Convert 'end' to a datetime object\n",
        "end_date = datetime.strptime(end, '%Y-%m-%d')\n",
        "\n",
        "# Add one day to 'end_date'\n",
        "end_date += timedelta(days=1)\n",
        "\n",
        "# Convert 'end_date' back to a string in the 'YYYY-MM-DD' format\n",
        "end = end_date.strftime('%Y-%m-%d')\n",
        "\n",
        "print(\"The actual start date for the model is:\", end) # adds a day for yFinance offeset reasons"
      ],
      "metadata": {
        "colab": {
          "base_uri": "https://localhost:8080/"
        },
        "id": "h9Zt8fPUKupJ",
        "outputId": "388e440c-5659-4989-c8fa-ca2e4ce9765d"
      },
      "execution_count": null,
      "outputs": [
        {
          "output_type": "stream",
          "name": "stdout",
          "text": [
            "The actual start date for the model is: 2023-09-19\n"
          ]
        }
      ]
    },
    {
      "cell_type": "code",
      "source": [
        "# return quote\n",
        "quote_df = pdr.DataReader(tag,start,end)\n",
        "quote_df"
      ],
      "metadata": {
        "colab": {
          "base_uri": "https://localhost:8080/",
          "height": 472
        },
        "id": "L79-rveg3tEo",
        "outputId": "e1a89b3e-abb9-4d65-ef81-7931de47e7b0"
      },
      "execution_count": null,
      "outputs": [
        {
          "output_type": "stream",
          "name": "stdout",
          "text": [
            "\r[*********************100%%**********************]  1 of 1 completed\n"
          ]
        },
        {
          "output_type": "execute_result",
          "data": {
            "text/plain": [
              "            Open   High    Low  Close  Adj Close    Volume\n",
              "Date                                                      \n",
              "2023-02-06  4.65  4.670  4.390   4.42       4.42   3110200\n",
              "2023-02-07  4.46  4.480  4.210   4.42       4.42   2898700\n",
              "2023-02-08  4.38  4.440  4.305   4.36       4.36   1875300\n",
              "2023-02-09  4.47  4.575  4.210   4.22       4.22   2250200\n",
              "2023-02-10  4.21  4.219  4.095   4.20       4.20   1599400\n",
              "...          ...    ...    ...    ...        ...       ...\n",
              "2023-09-12  7.20  7.310  6.980   6.99       6.99   3565600\n",
              "2023-09-13  6.96  7.045  6.870   6.88       6.88   4684700\n",
              "2023-09-14  6.90  7.000  6.780   6.94       6.94   4972100\n",
              "2023-09-15  6.85  6.915  6.450   6.54       6.54  12268300\n",
              "2023-09-18  6.72  7.050  6.550   6.83       6.83   9825352\n",
              "\n",
              "[155 rows x 6 columns]"
            ],
            "text/html": [
              "\n",
              "  <div id=\"df-a3db8e59-3518-452e-adaa-57eb9d5257d5\" class=\"colab-df-container\">\n",
              "    <div>\n",
              "<style scoped>\n",
              "    .dataframe tbody tr th:only-of-type {\n",
              "        vertical-align: middle;\n",
              "    }\n",
              "\n",
              "    .dataframe tbody tr th {\n",
              "        vertical-align: top;\n",
              "    }\n",
              "\n",
              "    .dataframe thead th {\n",
              "        text-align: right;\n",
              "    }\n",
              "</style>\n",
              "<table border=\"1\" class=\"dataframe\">\n",
              "  <thead>\n",
              "    <tr style=\"text-align: right;\">\n",
              "      <th></th>\n",
              "      <th>Open</th>\n",
              "      <th>High</th>\n",
              "      <th>Low</th>\n",
              "      <th>Close</th>\n",
              "      <th>Adj Close</th>\n",
              "      <th>Volume</th>\n",
              "    </tr>\n",
              "    <tr>\n",
              "      <th>Date</th>\n",
              "      <th></th>\n",
              "      <th></th>\n",
              "      <th></th>\n",
              "      <th></th>\n",
              "      <th></th>\n",
              "      <th></th>\n",
              "    </tr>\n",
              "  </thead>\n",
              "  <tbody>\n",
              "    <tr>\n",
              "      <th>2023-02-06</th>\n",
              "      <td>4.65</td>\n",
              "      <td>4.670</td>\n",
              "      <td>4.390</td>\n",
              "      <td>4.42</td>\n",
              "      <td>4.42</td>\n",
              "      <td>3110200</td>\n",
              "    </tr>\n",
              "    <tr>\n",
              "      <th>2023-02-07</th>\n",
              "      <td>4.46</td>\n",
              "      <td>4.480</td>\n",
              "      <td>4.210</td>\n",
              "      <td>4.42</td>\n",
              "      <td>4.42</td>\n",
              "      <td>2898700</td>\n",
              "    </tr>\n",
              "    <tr>\n",
              "      <th>2023-02-08</th>\n",
              "      <td>4.38</td>\n",
              "      <td>4.440</td>\n",
              "      <td>4.305</td>\n",
              "      <td>4.36</td>\n",
              "      <td>4.36</td>\n",
              "      <td>1875300</td>\n",
              "    </tr>\n",
              "    <tr>\n",
              "      <th>2023-02-09</th>\n",
              "      <td>4.47</td>\n",
              "      <td>4.575</td>\n",
              "      <td>4.210</td>\n",
              "      <td>4.22</td>\n",
              "      <td>4.22</td>\n",
              "      <td>2250200</td>\n",
              "    </tr>\n",
              "    <tr>\n",
              "      <th>2023-02-10</th>\n",
              "      <td>4.21</td>\n",
              "      <td>4.219</td>\n",
              "      <td>4.095</td>\n",
              "      <td>4.20</td>\n",
              "      <td>4.20</td>\n",
              "      <td>1599400</td>\n",
              "    </tr>\n",
              "    <tr>\n",
              "      <th>...</th>\n",
              "      <td>...</td>\n",
              "      <td>...</td>\n",
              "      <td>...</td>\n",
              "      <td>...</td>\n",
              "      <td>...</td>\n",
              "      <td>...</td>\n",
              "    </tr>\n",
              "    <tr>\n",
              "      <th>2023-09-12</th>\n",
              "      <td>7.20</td>\n",
              "      <td>7.310</td>\n",
              "      <td>6.980</td>\n",
              "      <td>6.99</td>\n",
              "      <td>6.99</td>\n",
              "      <td>3565600</td>\n",
              "    </tr>\n",
              "    <tr>\n",
              "      <th>2023-09-13</th>\n",
              "      <td>6.96</td>\n",
              "      <td>7.045</td>\n",
              "      <td>6.870</td>\n",
              "      <td>6.88</td>\n",
              "      <td>6.88</td>\n",
              "      <td>4684700</td>\n",
              "    </tr>\n",
              "    <tr>\n",
              "      <th>2023-09-14</th>\n",
              "      <td>6.90</td>\n",
              "      <td>7.000</td>\n",
              "      <td>6.780</td>\n",
              "      <td>6.94</td>\n",
              "      <td>6.94</td>\n",
              "      <td>4972100</td>\n",
              "    </tr>\n",
              "    <tr>\n",
              "      <th>2023-09-15</th>\n",
              "      <td>6.85</td>\n",
              "      <td>6.915</td>\n",
              "      <td>6.450</td>\n",
              "      <td>6.54</td>\n",
              "      <td>6.54</td>\n",
              "      <td>12268300</td>\n",
              "    </tr>\n",
              "    <tr>\n",
              "      <th>2023-09-18</th>\n",
              "      <td>6.72</td>\n",
              "      <td>7.050</td>\n",
              "      <td>6.550</td>\n",
              "      <td>6.83</td>\n",
              "      <td>6.83</td>\n",
              "      <td>9825352</td>\n",
              "    </tr>\n",
              "  </tbody>\n",
              "</table>\n",
              "<p>155 rows × 6 columns</p>\n",
              "</div>\n",
              "    <div class=\"colab-df-buttons\">\n",
              "\n",
              "  <div class=\"colab-df-container\">\n",
              "    <button class=\"colab-df-convert\" onclick=\"convertToInteractive('df-a3db8e59-3518-452e-adaa-57eb9d5257d5')\"\n",
              "            title=\"Convert this dataframe to an interactive table.\"\n",
              "            style=\"display:none;\">\n",
              "\n",
              "  <svg xmlns=\"http://www.w3.org/2000/svg\" height=\"24px\" viewBox=\"0 -960 960 960\">\n",
              "    <path d=\"M120-120v-720h720v720H120Zm60-500h600v-160H180v160Zm220 220h160v-160H400v160Zm0 220h160v-160H400v160ZM180-400h160v-160H180v160Zm440 0h160v-160H620v160ZM180-180h160v-160H180v160Zm440 0h160v-160H620v160Z\"/>\n",
              "  </svg>\n",
              "    </button>\n",
              "\n",
              "  <style>\n",
              "    .colab-df-container {\n",
              "      display:flex;\n",
              "      gap: 12px;\n",
              "    }\n",
              "\n",
              "    .colab-df-convert {\n",
              "      background-color: #E8F0FE;\n",
              "      border: none;\n",
              "      border-radius: 50%;\n",
              "      cursor: pointer;\n",
              "      display: none;\n",
              "      fill: #1967D2;\n",
              "      height: 32px;\n",
              "      padding: 0 0 0 0;\n",
              "      width: 32px;\n",
              "    }\n",
              "\n",
              "    .colab-df-convert:hover {\n",
              "      background-color: #E2EBFA;\n",
              "      box-shadow: 0px 1px 2px rgba(60, 64, 67, 0.3), 0px 1px 3px 1px rgba(60, 64, 67, 0.15);\n",
              "      fill: #174EA6;\n",
              "    }\n",
              "\n",
              "    .colab-df-buttons div {\n",
              "      margin-bottom: 4px;\n",
              "    }\n",
              "\n",
              "    [theme=dark] .colab-df-convert {\n",
              "      background-color: #3B4455;\n",
              "      fill: #D2E3FC;\n",
              "    }\n",
              "\n",
              "    [theme=dark] .colab-df-convert:hover {\n",
              "      background-color: #434B5C;\n",
              "      box-shadow: 0px 1px 3px 1px rgba(0, 0, 0, 0.15);\n",
              "      filter: drop-shadow(0px 1px 2px rgba(0, 0, 0, 0.3));\n",
              "      fill: #FFFFFF;\n",
              "    }\n",
              "  </style>\n",
              "\n",
              "    <script>\n",
              "      const buttonEl =\n",
              "        document.querySelector('#df-a3db8e59-3518-452e-adaa-57eb9d5257d5 button.colab-df-convert');\n",
              "      buttonEl.style.display =\n",
              "        google.colab.kernel.accessAllowed ? 'block' : 'none';\n",
              "\n",
              "      async function convertToInteractive(key) {\n",
              "        const element = document.querySelector('#df-a3db8e59-3518-452e-adaa-57eb9d5257d5');\n",
              "        const dataTable =\n",
              "          await google.colab.kernel.invokeFunction('convertToInteractive',\n",
              "                                                    [key], {});\n",
              "        if (!dataTable) return;\n",
              "\n",
              "        const docLinkHtml = 'Like what you see? Visit the ' +\n",
              "          '<a target=\"_blank\" href=https://colab.research.google.com/notebooks/data_table.ipynb>data table notebook</a>'\n",
              "          + ' to learn more about interactive tables.';\n",
              "        element.innerHTML = '';\n",
              "        dataTable['output_type'] = 'display_data';\n",
              "        await google.colab.output.renderOutput(dataTable, element);\n",
              "        const docLink = document.createElement('div');\n",
              "        docLink.innerHTML = docLinkHtml;\n",
              "        element.appendChild(docLink);\n",
              "      }\n",
              "    </script>\n",
              "  </div>\n",
              "\n",
              "\n",
              "<div id=\"df-3d2c1cd1-fac3-4235-a405-d9819e18aca4\">\n",
              "  <button class=\"colab-df-quickchart\" onclick=\"quickchart('df-3d2c1cd1-fac3-4235-a405-d9819e18aca4')\"\n",
              "            title=\"Suggest charts.\"\n",
              "            style=\"display:none;\">\n",
              "\n",
              "<svg xmlns=\"http://www.w3.org/2000/svg\" height=\"24px\"viewBox=\"0 0 24 24\"\n",
              "     width=\"24px\">\n",
              "    <g>\n",
              "        <path d=\"M19 3H5c-1.1 0-2 .9-2 2v14c0 1.1.9 2 2 2h14c1.1 0 2-.9 2-2V5c0-1.1-.9-2-2-2zM9 17H7v-7h2v7zm4 0h-2V7h2v10zm4 0h-2v-4h2v4z\"/>\n",
              "    </g>\n",
              "</svg>\n",
              "  </button>\n",
              "\n",
              "<style>\n",
              "  .colab-df-quickchart {\n",
              "      --bg-color: #E8F0FE;\n",
              "      --fill-color: #1967D2;\n",
              "      --hover-bg-color: #E2EBFA;\n",
              "      --hover-fill-color: #174EA6;\n",
              "      --disabled-fill-color: #AAA;\n",
              "      --disabled-bg-color: #DDD;\n",
              "  }\n",
              "\n",
              "  [theme=dark] .colab-df-quickchart {\n",
              "      --bg-color: #3B4455;\n",
              "      --fill-color: #D2E3FC;\n",
              "      --hover-bg-color: #434B5C;\n",
              "      --hover-fill-color: #FFFFFF;\n",
              "      --disabled-bg-color: #3B4455;\n",
              "      --disabled-fill-color: #666;\n",
              "  }\n",
              "\n",
              "  .colab-df-quickchart {\n",
              "    background-color: var(--bg-color);\n",
              "    border: none;\n",
              "    border-radius: 50%;\n",
              "    cursor: pointer;\n",
              "    display: none;\n",
              "    fill: var(--fill-color);\n",
              "    height: 32px;\n",
              "    padding: 0;\n",
              "    width: 32px;\n",
              "  }\n",
              "\n",
              "  .colab-df-quickchart:hover {\n",
              "    background-color: var(--hover-bg-color);\n",
              "    box-shadow: 0 1px 2px rgba(60, 64, 67, 0.3), 0 1px 3px 1px rgba(60, 64, 67, 0.15);\n",
              "    fill: var(--button-hover-fill-color);\n",
              "  }\n",
              "\n",
              "  .colab-df-quickchart-complete:disabled,\n",
              "  .colab-df-quickchart-complete:disabled:hover {\n",
              "    background-color: var(--disabled-bg-color);\n",
              "    fill: var(--disabled-fill-color);\n",
              "    box-shadow: none;\n",
              "  }\n",
              "\n",
              "  .colab-df-spinner {\n",
              "    border: 2px solid var(--fill-color);\n",
              "    border-color: transparent;\n",
              "    border-bottom-color: var(--fill-color);\n",
              "    animation:\n",
              "      spin 1s steps(1) infinite;\n",
              "  }\n",
              "\n",
              "  @keyframes spin {\n",
              "    0% {\n",
              "      border-color: transparent;\n",
              "      border-bottom-color: var(--fill-color);\n",
              "      border-left-color: var(--fill-color);\n",
              "    }\n",
              "    20% {\n",
              "      border-color: transparent;\n",
              "      border-left-color: var(--fill-color);\n",
              "      border-top-color: var(--fill-color);\n",
              "    }\n",
              "    30% {\n",
              "      border-color: transparent;\n",
              "      border-left-color: var(--fill-color);\n",
              "      border-top-color: var(--fill-color);\n",
              "      border-right-color: var(--fill-color);\n",
              "    }\n",
              "    40% {\n",
              "      border-color: transparent;\n",
              "      border-right-color: var(--fill-color);\n",
              "      border-top-color: var(--fill-color);\n",
              "    }\n",
              "    60% {\n",
              "      border-color: transparent;\n",
              "      border-right-color: var(--fill-color);\n",
              "    }\n",
              "    80% {\n",
              "      border-color: transparent;\n",
              "      border-right-color: var(--fill-color);\n",
              "      border-bottom-color: var(--fill-color);\n",
              "    }\n",
              "    90% {\n",
              "      border-color: transparent;\n",
              "      border-bottom-color: var(--fill-color);\n",
              "    }\n",
              "  }\n",
              "</style>\n",
              "\n",
              "  <script>\n",
              "    async function quickchart(key) {\n",
              "      const quickchartButtonEl =\n",
              "        document.querySelector('#' + key + ' button');\n",
              "      quickchartButtonEl.disabled = true;  // To prevent multiple clicks.\n",
              "      quickchartButtonEl.classList.add('colab-df-spinner');\n",
              "      try {\n",
              "        const charts = await google.colab.kernel.invokeFunction(\n",
              "            'suggestCharts', [key], {});\n",
              "      } catch (error) {\n",
              "        console.error('Error during call to suggestCharts:', error);\n",
              "      }\n",
              "      quickchartButtonEl.classList.remove('colab-df-spinner');\n",
              "      quickchartButtonEl.classList.add('colab-df-quickchart-complete');\n",
              "    }\n",
              "    (() => {\n",
              "      let quickchartButtonEl =\n",
              "        document.querySelector('#df-3d2c1cd1-fac3-4235-a405-d9819e18aca4 button');\n",
              "      quickchartButtonEl.style.display =\n",
              "        google.colab.kernel.accessAllowed ? 'block' : 'none';\n",
              "    })();\n",
              "  </script>\n",
              "</div>\n",
              "    </div>\n",
              "  </div>\n"
            ]
          },
          "metadata": {},
          "execution_count": 7
        }
      ]
    },
    {
      "cell_type": "markdown",
      "source": [
        "## Display price chart"
      ],
      "metadata": {
        "id": "iwdWR3aV55p6"
      }
    },
    {
      "cell_type": "code",
      "metadata": {
        "id": "aBVeFB_0K3Np",
        "colab": {
          "base_uri": "https://localhost:8080/",
          "height": 785
        },
        "outputId": "0affcffa-95e1-4d76-9d25-34ba2103a7df"
      },
      "source": [
        "# show graphic\n",
        "plt.figure(figsize=(16,8))\n",
        "plt.title('%s Close Price Data'%str(tag)) # was Close\n",
        "plt.xlabel('Date', fontsize=18)\n",
        "plt.ylabel(\"Adj Close Price, USD ($)\", fontsize=18) # was Close\n",
        "#plt.ylabel('Ten Tenthouthand Volume')\n",
        "plt.plot(quote_df['Adj Close'], label=str(tag)) # was 'Close'\n",
        "#plt.plot(quote_df['Volume']*0.000000003, 'r') #10th, micro volume\n",
        "plt.legend(loc='center left')"
      ],
      "execution_count": null,
      "outputs": [
        {
          "output_type": "execute_result",
          "data": {
            "text/plain": [
              "<matplotlib.legend.Legend at 0x7fc1c54b3a00>"
            ]
          },
          "metadata": {},
          "execution_count": 8
        },
        {
          "output_type": "display_data",
          "data": {
            "text/plain": [
              "<Figure size 1600x800 with 1 Axes>"
            ],
            "image/png": "[encoded data removed]"
          },
          "metadata": {}
        }
      ]
    },
    {
      "cell_type": "markdown",
      "source": [
        "### filter stock quote exchange sheet for close prices to array"
      ],
      "metadata": {
        "id": "B9RxnRVtOKqW"
      }
    },
    {
      "cell_type": "code",
      "metadata": {
        "id": "YG4Za3ltKrB2"
      },
      "source": [
        "data = quote_df.filter(['Adj Close']) # was Close\n",
        "\n",
        "# convert to np array\n",
        "array = np.array(data)"
      ],
      "execution_count": null,
      "outputs": []
    },
    {
      "cell_type": "markdown",
      "source": [
        "### get number of rows to train model"
      ],
      "metadata": {
        "id": "Tc50dGUWOPyJ"
      }
    },
    {
      "cell_type": "code",
      "metadata": {
        "id": "98aoEsYyMDTG",
        "colab": {
          "base_uri": "https://localhost:8080/"
        },
        "outputId": "df132bfb-3284-4468-e312-f8777e804c45"
      },
      "source": [
        "trainlen = math.ceil((len(array)*0.8))\n",
        "trainlen"
      ],
      "execution_count": null,
      "outputs": [
        {
          "output_type": "execute_result",
          "data": {
            "text/plain": [
              "124"
            ]
          },
          "metadata": {},
          "execution_count": 10
        }
      ]
    },
    {
      "cell_type": "markdown",
      "source": [
        "### scale data for preprocessing transormations to input data"
      ],
      "metadata": {
        "id": "pn48-qOoOT0a"
      }
    },
    {
      "cell_type": "code",
      "metadata": {
        "id": "INXX9SEmMjwG"
      },
      "source": [
        "scaler = MinMaxScaler(feature_range=(0,1)) #inclusive\n",
        "scaleddata = scaler.fit_transform(array)\n",
        "#scaleddata"
      ],
      "execution_count": null,
      "outputs": []
    },
    {
      "cell_type": "markdown",
      "source": [
        "### create data set for training model"
      ],
      "metadata": {
        "id": "wMSshwSHOX-3"
      }
    },
    {
      "cell_type": "code",
      "metadata": {
        "id": "XOsfolC-NvCa"
      },
      "source": [
        "traindata = scaleddata[0:trainlen,:] # native = traindata = scaleddata[0:trainlen,:]\n",
        "#traindata"
      ],
      "execution_count": null,
      "outputs": []
    },
    {
      "cell_type": "markdown",
      "source": [
        "### split traindata into xtrain (as-modeled input history) and ytrain (value to predict)"
      ],
      "metadata": {
        "id": "krZZgt8cOaoW"
      }
    },
    {
      "cell_type": "code",
      "metadata": {
        "id": "6Idi5iqiOFKF"
      },
      "source": [
        "xtrain = []\n",
        "ytrain = []\n",
        "\n",
        "for i in range(60,len(traindata)): #was 60,len(traindata)\n",
        "  xtrain.append(traindata[i-60:i,0]) #was i-60:i,0\n",
        "  ytrain.append(traindata[i,0])\n",
        "  #if i <=61:\n",
        "  #  print(xtrain)\n",
        "  #  print(ytrain)\n",
        "  #  print()"
      ],
      "execution_count": null,
      "outputs": []
    },
    {
      "cell_type": "markdown",
      "source": [
        "### convert xtrain and ytrain into np array"
      ],
      "metadata": {
        "id": "5YdUOHJfOh6a"
      }
    },
    {
      "cell_type": "code",
      "metadata": {
        "id": "rvn-G9noOwg_"
      },
      "source": [
        "xtrain, ytrain = np.array(xtrain), np.array(ytrain)"
      ],
      "execution_count": null,
      "outputs": []
    },
    {
      "cell_type": "markdown",
      "source": [
        "### reshape training set for LSTM"
      ],
      "metadata": {
        "id": "wRQ-9zM9Okhz"
      }
    },
    {
      "cell_type": "code",
      "metadata": {
        "id": "gGFalic4PbVs"
      },
      "source": [
        "xtrain = np.reshape(xtrain, (xtrain.shape[0], xtrain.shape[1], 1))\n",
        "#xtrain.shape"
      ],
      "execution_count": null,
      "outputs": []
    },
    {
      "cell_type": "markdown",
      "source": [
        "### create an optimizer with clip value (Stochastic Gradient Descent)"
      ],
      "metadata": {
        "id": "mjN8Hr73SYIX"
      }
    },
    {
      "cell_type": "code",
      "source": [
        "optimizer = SGD(clipvalue=0.5)"
      ],
      "metadata": {
        "id": "mrsDgFD1SWX5"
      },
      "execution_count": null,
      "outputs": []
    },
    {
      "cell_type": "markdown",
      "source": [
        "### build long short term memory (LSTM) model\n",
        "* two LSTM layers\n",
        "* two dense layers\n",
        "* optional data dropout"
      ],
      "metadata": {
        "id": "WOINCvf6wdXw"
      }
    },
    {
      "cell_type": "code",
      "metadata": {
        "id": "9QkVamMPPoYV"
      },
      "source": [
        "model = Sequential()\n",
        "model.add(LSTM(50,return_sequences=True,input_shape=(xtrain.shape[1],1))) # was 50\n",
        "#model.add(Dropout(0.2))\n",
        "model.add(LSTM(50,return_sequences=False)) # was 50\n",
        "#model.add(Dropout(0.2))\n",
        "model.add(Dense(25)) #brain ct. for neural network (was 25)\n",
        "#model.add(Dense(50, kernel_regularizer='l2'))  # L2 regularization\n",
        "#model.add(BatchNormalization())\n",
        "#model.add(Dropout(0.2))\n",
        "model.add(Dense(1))"
      ],
      "execution_count": null,
      "outputs": []
    },
    {
      "cell_type": "markdown",
      "source": [
        "### compile model"
      ],
      "metadata": {
        "id": "PdaVL8-lO8cz"
      }
    },
    {
      "cell_type": "code",
      "metadata": {
        "id": "JemNENtkQFqa"
      },
      "source": [
        "model.compile(optimizer='adam',loss='mean_squared_error')"
      ],
      "execution_count": null,
      "outputs": []
    },
    {
      "cell_type": "markdown",
      "source": [
        "### set up EarlyStopping callback"
      ],
      "metadata": {
        "id": "SWByfGt4R32S"
      }
    },
    {
      "cell_type": "code",
      "source": [
        "early_stopping = EarlyStopping(monitor='val_loss', patience=5, restore_best_weights=True)"
      ],
      "metadata": {
        "id": "uSzpZBhHR2JG"
      },
      "execution_count": null,
      "outputs": []
    },
    {
      "cell_type": "markdown",
      "source": [
        "### train the model (batch size was 32, epochs was 100)"
      ],
      "metadata": {
        "id": "9CNhkfTtO_Is"
      }
    },
    {
      "cell_type": "code",
      "metadata": {
        "id": "NqLOzgZCQOPG",
        "colab": {
          "base_uri": "https://localhost:8080/"
        },
        "outputId": "f371fbe1-d848-4b7d-eec9-c85fa13a79bb"
      },
      "source": [
        "model.fit(xtrain,ytrain,batch_size,epochs)\n",
        "\n",
        "# Train the model using early stopping\n",
        "# model.fit(xtrain, ytrain, batch_size, epochs, validation_data=(xtest, ytest), callbacks=[early_stopping])"
      ],
      "execution_count": null,
      "outputs": [
        {
          "output_type": "stream",
          "name": "stdout",
          "text": [
            "Epoch 1/10\n",
            "2/2 [==============================] - 15s 226ms/step - loss: 0.3971\n",
            "Epoch 2/10\n",
            "2/2 [==============================] - 0s 157ms/step - loss: 0.2391\n",
            "Epoch 3/10\n",
            "2/2 [==============================] - 0s 118ms/step - loss: 0.1146\n",
            "Epoch 4/10\n",
            "2/2 [==============================] - 0s 245ms/step - loss: 0.0441\n",
            "Epoch 5/10\n",
            "2/2 [==============================] - 0s 199ms/step - loss: 0.0324\n",
            "Epoch 6/10\n",
            "2/2 [==============================] - 0s 236ms/step - loss: 0.0594\n",
            "Epoch 7/10\n",
            "2/2 [==============================] - 0s 263ms/step - loss: 0.0517\n",
            "Epoch 8/10\n",
            "2/2 [==============================] - 0s 246ms/step - loss: 0.0313\n",
            "Epoch 9/10\n",
            "2/2 [==============================] - 0s 253ms/step - loss: 0.0239\n",
            "Epoch 10/10\n",
            "2/2 [==============================] - 0s 129ms/step - loss: 0.0268\n"
          ]
        },
        {
          "output_type": "execute_result",
          "data": {
            "text/plain": [
              "<keras.src.callbacks.History at 0x7fc1342d5780>"
            ]
          },
          "metadata": {},
          "execution_count": 20
        }
      ]
    },
    {
      "cell_type": "markdown",
      "source": [
        "### generate test data"
      ],
      "metadata": {
        "id": "pFZQFpqQPDIu"
      }
    },
    {
      "cell_type": "code",
      "metadata": {
        "id": "jO01AvqUQaC8"
      },
      "source": [
        "# create testing data set from last 60 day, scaled data set for every column in array\n",
        "testdata = scaleddata[trainlen-60:,:]\n",
        "\n",
        "# create the data sets xtest and ytest\n",
        "xtest = []\n",
        "ytest = array[trainlen:,:]\n",
        "\n",
        "for i in range(60, len(testdata)):\n",
        "  xtest.append(testdata[i-60:i,0])"
      ],
      "execution_count": null,
      "outputs": []
    },
    {
      "cell_type": "markdown",
      "source": [
        "### convert looped test data stream to an array"
      ],
      "metadata": {
        "id": "tAnI6SG_PKDk"
      }
    },
    {
      "cell_type": "code",
      "metadata": {
        "id": "2neZf91DRRhE"
      },
      "source": [
        "xtest = np.array(xtest)"
      ],
      "execution_count": null,
      "outputs": []
    },
    {
      "cell_type": "markdown",
      "source": [
        "### reshape test data array"
      ],
      "metadata": {
        "id": "xWcbcsxbPNuB"
      }
    },
    {
      "cell_type": "code",
      "metadata": {
        "id": "qebg6H2TRshP"
      },
      "source": [
        "xtest = np.reshape(xtest,(xtest.shape[0],xtest.shape[1],1))"
      ],
      "execution_count": null,
      "outputs": []
    },
    {
      "cell_type": "markdown",
      "source": [
        "### get the model's predicted price values, contain same values as ytest values"
      ],
      "metadata": {
        "id": "HXRTS-HoPQql"
      }
    },
    {
      "cell_type": "code",
      "metadata": {
        "id": "dAxotXvVR8ne",
        "colab": {
          "base_uri": "https://localhost:8080/"
        },
        "outputId": "cd3efe58-ce42-4397-b80a-a80e56c8b34e"
      },
      "source": [
        "predictions = model.predict(xtest)\n",
        "predictions = scaler.inverse_transform(predictions)"
      ],
      "execution_count": null,
      "outputs": [
        {
          "output_type": "stream",
          "name": "stdout",
          "text": [
            "1/1 [==============================] - 4s 4s/step\n"
          ]
        }
      ]
    },
    {
      "cell_type": "markdown",
      "source": [
        "### get the root mean squared error (RMSE), or standard deviation of the residual error, prefer low values"
      ],
      "metadata": {
        "id": "fUlfHDAHPVQK"
      }
    },
    {
      "cell_type": "code",
      "metadata": {
        "id": "DLKXRPVGSLo-",
        "colab": {
          "base_uri": "https://localhost:8080/"
        },
        "outputId": "a906b313-44a8-4ebd-ec2f-67a4f90cd4e2"
      },
      "source": [
        "rmse=np.sqrt(np.mean(((predictions-ytest)**2))) #rmse=np.sqrt(np.mean(((predictions- y_test)**2)))\n",
        "rmse"
      ],
      "execution_count": null,
      "outputs": [
        {
          "output_type": "execute_result",
          "data": {
            "text/plain": [
              "0.3163194524376709"
            ]
          },
          "metadata": {},
          "execution_count": 25
        }
      ]
    },
    {
      "cell_type": "markdown",
      "source": [
        "### present the model"
      ],
      "metadata": {
        "id": "A-WWlugiPZ4W"
      }
    },
    {
      "cell_type": "code",
      "metadata": {
        "id": "QSZiZ4DaSr33",
        "colab": {
          "base_uri": "https://localhost:8080/",
          "height": 894
        },
        "outputId": "8916079a-b716-48b0-df9d-f92403c8f9e2"
      },
      "source": [
        "from matplotlib.ticker import MultipleLocator\n",
        "\n",
        "# Plot data\n",
        "train = data[:trainlen]\n",
        "valid = data[trainlen:]\n",
        "valid['Predictions'] = predictions\n",
        "\n",
        "# Visual graphic rendering\n",
        "plt.figure(figsize=(16, 8))\n",
        "plt.title('%s Stock Price Prediction Model' % str(tag))\n",
        "plt.xlabel('Date', fontsize=18)\n",
        "ax = plt.gca()  # Get the current axis\n",
        "\n",
        "# Set ticks for every day but label every 10th day\n",
        "ax.xaxis.set_major_locator(DayLocator(interval=3))\n",
        "ax.xaxis.set_major_formatter(DateFormatter('%Y-%m-%d'))\n",
        "ax.xaxis.set_minor_locator(DayLocator(interval=100))\n",
        "\n",
        "# Set font size for x-axis date labels\n",
        "ax.tick_params(axis='x', labelsize=6)  # Adjust the font size here (change to your desired size)\n",
        "\n",
        "# Set y-axis tick interval to 0.5 increments\n",
        "ax.yaxis.set_major_locator(MultipleLocator(0.5))\n",
        "\n",
        "plt.xticks(rotation=45)  # Rotate the tick labels by 45 degrees\n",
        "plt.ylabel('Adj Close Price, USD($)', fontsize=18)  # Was 'Close'\n",
        "plt.plot(train['Adj Close'], 'b')  # Was 'Close'\n",
        "plt.plot(valid['Adj Close'], 'g-')  # Was 'Close'\n",
        "plt.plot(valid['Predictions'], 'y')\n",
        "plt.legend([str(tag), 'Val', 'Predictions'], loc='upper left')\n",
        "plt.show()\n"
      ],
      "execution_count": null,
      "outputs": [
        {
          "output_type": "stream",
          "name": "stderr",
          "text": [
            "<ipython-input-26-f86913dbf51b>:6: SettingWithCopyWarning: \n",
            "A value is trying to be set on a copy of a slice from a DataFrame.\n",
            "Try using .loc[row_indexer,col_indexer] = value instead\n",
            "\n",
            "See the caveats in the documentation: https://pandas.pydata.org/pandas-docs/stable/user_guide/indexing.html#returning-a-view-versus-a-copy\n",
            "  valid['Predictions'] = predictions\n"
          ]
        },
        {
          "output_type": "display_data",
          "data": {
            "text/plain": [
              "<Figure size 1600x800 with 1 Axes>"
            ],
            "image/png": "[encoded data removed]"
          },
          "metadata": {}
        }
      ]
    },
    {
      "cell_type": "markdown",
      "source": [
        "### show the valid and predicted prices"
      ],
      "metadata": {
        "id": "1ovGqyXlPgMd"
      }
    },
    {
      "cell_type": "code",
      "metadata": {
        "id": "MZyDoesoTnNq",
        "colab": {
          "base_uri": "https://localhost:8080/",
          "height": 1000
        },
        "outputId": "e62db719-c6a8-416f-c546-34fab76c4590"
      },
      "source": [
        "valid[-60:]"
      ],
      "execution_count": null,
      "outputs": [
        {
          "output_type": "execute_result",
          "data": {
            "text/plain": [
              "            Adj Close  Predictions\n",
              "Date                              \n",
              "2023-08-04       8.16     8.069559\n",
              "2023-08-07       8.12     8.031911\n",
              "2023-08-08       8.28     7.995559\n",
              "2023-08-09       7.92     7.964810\n",
              "2023-08-10       7.89     7.931180\n",
              "2023-08-11       7.67     7.895804\n",
              "2023-08-14       7.69     7.855428\n",
              "2023-08-15       7.50     7.813162\n",
              "2023-08-16       7.27     7.766771\n",
              "2023-08-17       7.03     7.713839\n",
              "2023-08-18       7.12     7.652596\n",
              "2023-08-21       7.10     7.589417\n",
              "2023-08-22       7.06     7.526716\n",
              "2023-08-23       7.31     7.465805\n",
              "2023-08-24       6.97     7.414072\n",
              "2023-08-25       6.91     7.363436\n",
              "2023-08-28       7.22     7.313927\n",
              "2023-08-29       7.47     7.273847\n",
              "2023-08-30       7.43     7.247759\n",
              "2023-08-31       7.45     7.232023\n",
              "2023-09-01       7.33     7.224769\n",
              "2023-09-05       7.41     7.221090\n",
              "2023-09-06       7.31     7.221653\n",
              "2023-09-07       7.25     7.222829\n",
              "2023-09-08       7.30     7.222824\n",
              "2023-09-11       7.28     7.222888\n",
              "2023-09-12       6.99     7.222453\n",
              "2023-09-13       6.88     7.215080\n",
              "2023-09-14       6.94     7.200256\n",
              "2023-09-15       6.54     7.181765\n",
              "2023-09-18       6.83     7.152277"
            ],
            "text/html": [
              "\n",
              "  <div id=\"df-4af56468-8d49-48e6-b5c2-905eb0bfca15\" class=\"colab-df-container\">\n",
              "    <div>\n",
              "<style scoped>\n",
              "    .dataframe tbody tr th:only-of-type {\n",
              "        vertical-align: middle;\n",
              "    }\n",
              "\n",
              "    .dataframe tbody tr th {\n",
              "        vertical-align: top;\n",
              "    }\n",
              "\n",
              "    .dataframe thead th {\n",
              "        text-align: right;\n",
              "    }\n",
              "</style>\n",
              "<table border=\"1\" class=\"dataframe\">\n",
              "  <thead>\n",
              "    <tr style=\"text-align: right;\">\n",
              "      <th></th>\n",
              "      <th>Adj Close</th>\n",
              "      <th>Predictions</th>\n",
              "    </tr>\n",
              "    <tr>\n",
              "      <th>Date</th>\n",
              "      <th></th>\n",
              "      <th></th>\n",
              "    </tr>\n",
              "  </thead>\n",
              "  <tbody>\n",
              "    <tr>\n",
              "      <th>2023-08-04</th>\n",
              "      <td>8.16</td>\n",
              "      <td>8.069559</td>\n",
              "    </tr>\n",
              "    <tr>\n",
              "      <th>2023-08-07</th>\n",
              "      <td>8.12</td>\n",
              "      <td>8.031911</td>\n",
              "    </tr>\n",
              "    <tr>\n",
              "      <th>2023-08-08</th>\n",
              "      <td>8.28</td>\n",
              "      <td>7.995559</td>\n",
              "    </tr>\n",
              "    <tr>\n",
              "      <th>2023-08-09</th>\n",
              "      <td>7.92</td>\n",
              "      <td>7.964810</td>\n",
              "    </tr>\n",
              "    <tr>\n",
              "      <th>2023-08-10</th>\n",
              "      <td>7.89</td>\n",
              "      <td>7.931180</td>\n",
              "    </tr>\n",
              "    <tr>\n",
              "      <th>2023-08-11</th>\n",
              "      <td>7.67</td>\n",
              "      <td>7.895804</td>\n",
              "    </tr>\n",
              "    <tr>\n",
              "      <th>2023-08-14</th>\n",
              "      <td>7.69</td>\n",
              "      <td>7.855428</td>\n",
              "    </tr>\n",
              "    <tr>\n",
              "      <th>2023-08-15</th>\n",
              "      <td>7.50</td>\n",
              "      <td>7.813162</td>\n",
              "    </tr>\n",
              "    <tr>\n",
              "      <th>2023-08-16</th>\n",
              "      <td>7.27</td>\n",
              "      <td>7.766771</td>\n",
              "    </tr>\n",
              "    <tr>\n",
              "      <th>2023-08-17</th>\n",
              "      <td>7.03</td>\n",
              "      <td>7.713839</td>\n",
              "    </tr>\n",
              "    <tr>\n",
              "      <th>2023-08-18</th>\n",
              "      <td>7.12</td>\n",
              "      <td>7.652596</td>\n",
              "    </tr>\n",
              "    <tr>\n",
              "      <th>2023-08-21</th>\n",
              "      <td>7.10</td>\n",
              "      <td>7.589417</td>\n",
              "    </tr>\n",
              "    <tr>\n",
              "      <th>2023-08-22</th>\n",
              "      <td>7.06</td>\n",
              "      <td>7.526716</td>\n",
              "    </tr>\n",
              "    <tr>\n",
              "      <th>2023-08-23</th>\n",
              "      <td>7.31</td>\n",
              "      <td>7.465805</td>\n",
              "    </tr>\n",
              "    <tr>\n",
              "      <th>2023-08-24</th>\n",
              "      <td>6.97</td>\n",
              "      <td>7.414072</td>\n",
              "    </tr>\n",
              "    <tr>\n",
              "      <th>2023-08-25</th>\n",
              "      <td>6.91</td>\n",
              "      <td>7.363436</td>\n",
              "    </tr>\n",
              "    <tr>\n",
              "      <th>2023-08-28</th>\n",
              "      <td>7.22</td>\n",
              "      <td>7.313927</td>\n",
              "    </tr>\n",
              "    <tr>\n",
              "      <th>2023-08-29</th>\n",
              "      <td>7.47</td>\n",
              "      <td>7.273847</td>\n",
              "    </tr>\n",
              "    <tr>\n",
              "      <th>2023-08-30</th>\n",
              "      <td>7.43</td>\n",
              "      <td>7.247759</td>\n",
              "    </tr>\n",
              "    <tr>\n",
              "      <th>2023-08-31</th>\n",
              "      <td>7.45</td>\n",
              "      <td>7.232023</td>\n",
              "    </tr>\n",
              "    <tr>\n",
              "      <th>2023-09-01</th>\n",
              "      <td>7.33</td>\n",
              "      <td>7.224769</td>\n",
              "    </tr>\n",
              "    <tr>\n",
              "      <th>2023-09-05</th>\n",
              "      <td>7.41</td>\n",
              "      <td>7.221090</td>\n",
              "    </tr>\n",
              "    <tr>\n",
              "      <th>2023-09-06</th>\n",
              "      <td>7.31</td>\n",
              "      <td>7.221653</td>\n",
              "    </tr>\n",
              "    <tr>\n",
              "      <th>2023-09-07</th>\n",
              "      <td>7.25</td>\n",
              "      <td>7.222829</td>\n",
              "    </tr>\n",
              "    <tr>\n",
              "      <th>2023-09-08</th>\n",
              "      <td>7.30</td>\n",
              "      <td>7.222824</td>\n",
              "    </tr>\n",
              "    <tr>\n",
              "      <th>2023-09-11</th>\n",
              "      <td>7.28</td>\n",
              "      <td>7.222888</td>\n",
              "    </tr>\n",
              "    <tr>\n",
              "      <th>2023-09-12</th>\n",
              "      <td>6.99</td>\n",
              "      <td>7.222453</td>\n",
              "    </tr>\n",
              "    <tr>\n",
              "      <th>2023-09-13</th>\n",
              "      <td>6.88</td>\n",
              "      <td>7.215080</td>\n",
              "    </tr>\n",
              "    <tr>\n",
              "      <th>2023-09-14</th>\n",
              "      <td>6.94</td>\n",
              "      <td>7.200256</td>\n",
              "    </tr>\n",
              "    <tr>\n",
              "      <th>2023-09-15</th>\n",
              "      <td>6.54</td>\n",
              "      <td>7.181765</td>\n",
              "    </tr>\n",
              "    <tr>\n",
              "      <th>2023-09-18</th>\n",
              "      <td>6.83</td>\n",
              "      <td>7.152277</td>\n",
              "    </tr>\n",
              "  </tbody>\n",
              "</table>\n",
              "</div>\n",
              "    <div class=\"colab-df-buttons\">\n",
              "\n",
              "  <div class=\"colab-df-container\">\n",
              "    <button class=\"colab-df-convert\" onclick=\"convertToInteractive('df-4af56468-8d49-48e6-b5c2-905eb0bfca15')\"\n",
              "            title=\"Convert this dataframe to an interactive table.\"\n",
              "            style=\"display:none;\">\n",
              "\n",
              "  <svg xmlns=\"http://www.w3.org/2000/svg\" height=\"24px\" viewBox=\"0 -960 960 960\">\n",
              "    <path d=\"M120-120v-720h720v720H120Zm60-500h600v-160H180v160Zm220 220h160v-160H400v160Zm0 220h160v-160H400v160ZM180-400h160v-160H180v160Zm440 0h160v-160H620v160ZM180-180h160v-160H180v160Zm440 0h160v-160H620v160Z\"/>\n",
              "  </svg>\n",
              "    </button>\n",
              "\n",
              "  <style>\n",
              "    .colab-df-container {\n",
              "      display:flex;\n",
              "      gap: 12px;\n",
              "    }\n",
              "\n",
              "    .colab-df-convert {\n",
              "      background-color: #E8F0FE;\n",
              "      border: none;\n",
              "      border-radius: 50%;\n",
              "      cursor: pointer;\n",
              "      display: none;\n",
              "      fill: #1967D2;\n",
              "      height: 32px;\n",
              "      padding: 0 0 0 0;\n",
              "      width: 32px;\n",
              "    }\n",
              "\n",
              "    .colab-df-convert:hover {\n",
              "      background-color: #E2EBFA;\n",
              "      box-shadow: 0px 1px 2px rgba(60, 64, 67, 0.3), 0px 1px 3px 1px rgba(60, 64, 67, 0.15);\n",
              "      fill: #174EA6;\n",
              "    }\n",
              "\n",
              "    .colab-df-buttons div {\n",
              "      margin-bottom: 4px;\n",
              "    }\n",
              "\n",
              "    [theme=dark] .colab-df-convert {\n",
              "      background-color: #3B4455;\n",
              "      fill: #D2E3FC;\n",
              "    }\n",
              "\n",
              "    [theme=dark] .colab-df-convert:hover {\n",
              "      background-color: #434B5C;\n",
              "      box-shadow: 0px 1px 3px 1px rgba(0, 0, 0, 0.15);\n",
              "      filter: drop-shadow(0px 1px 2px rgba(0, 0, 0, 0.3));\n",
              "      fill: #FFFFFF;\n",
              "    }\n",
              "  </style>\n",
              "\n",
              "    <script>\n",
              "      const buttonEl =\n",
              "        document.querySelector('#df-4af56468-8d49-48e6-b5c2-905eb0bfca15 button.colab-df-convert');\n",
              "      buttonEl.style.display =\n",
              "        google.colab.kernel.accessAllowed ? 'block' : 'none';\n",
              "\n",
              "      async function convertToInteractive(key) {\n",
              "        const element = document.querySelector('#df-4af56468-8d49-48e6-b5c2-905eb0bfca15');\n",
              "        const dataTable =\n",
              "          await google.colab.kernel.invokeFunction('convertToInteractive',\n",
              "                                                    [key], {});\n",
              "        if (!dataTable) return;\n",
              "\n",
              "        const docLinkHtml = 'Like what you see? Visit the ' +\n",
              "          '<a target=\"_blank\" href=https://colab.research.google.com/notebooks/data_table.ipynb>data table notebook</a>'\n",
              "          + ' to learn more about interactive tables.';\n",
              "        element.innerHTML = '';\n",
              "        dataTable['output_type'] = 'display_data';\n",
              "        await google.colab.output.renderOutput(dataTable, element);\n",
              "        const docLink = document.createElement('div');\n",
              "        docLink.innerHTML = docLinkHtml;\n",
              "        element.appendChild(docLink);\n",
              "      }\n",
              "    </script>\n",
              "  </div>\n",
              "\n",
              "\n",
              "<div id=\"df-20526502-1164-45b4-992e-335b0546c0bf\">\n",
              "  <button class=\"colab-df-quickchart\" onclick=\"quickchart('df-20526502-1164-45b4-992e-335b0546c0bf')\"\n",
              "            title=\"Suggest charts.\"\n",
              "            style=\"display:none;\">\n",
              "\n",
              "<svg xmlns=\"http://www.w3.org/2000/svg\" height=\"24px\"viewBox=\"0 0 24 24\"\n",
              "     width=\"24px\">\n",
              "    <g>\n",
              "        <path d=\"M19 3H5c-1.1 0-2 .9-2 2v14c0 1.1.9 2 2 2h14c1.1 0 2-.9 2-2V5c0-1.1-.9-2-2-2zM9 17H7v-7h2v7zm4 0h-2V7h2v10zm4 0h-2v-4h2v4z\"/>\n",
              "    </g>\n",
              "</svg>\n",
              "  </button>\n",
              "\n",
              "<style>\n",
              "  .colab-df-quickchart {\n",
              "      --bg-color: #E8F0FE;\n",
              "      --fill-color: #1967D2;\n",
              "      --hover-bg-color: #E2EBFA;\n",
              "      --hover-fill-color: #174EA6;\n",
              "      --disabled-fill-color: #AAA;\n",
              "      --disabled-bg-color: #DDD;\n",
              "  }\n",
              "\n",
              "  [theme=dark] .colab-df-quickchart {\n",
              "      --bg-color: #3B4455;\n",
              "      --fill-color: #D2E3FC;\n",
              "      --hover-bg-color: #434B5C;\n",
              "      --hover-fill-color: #FFFFFF;\n",
              "      --disabled-bg-color: #3B4455;\n",
              "      --disabled-fill-color: #666;\n",
              "  }\n",
              "\n",
              "  .colab-df-quickchart {\n",
              "    background-color: var(--bg-color);\n",
              "    border: none;\n",
              "    border-radius: 50%;\n",
              "    cursor: pointer;\n",
              "    display: none;\n",
              "    fill: var(--fill-color);\n",
              "    height: 32px;\n",
              "    padding: 0;\n",
              "    width: 32px;\n",
              "  }\n",
              "\n",
              "  .colab-df-quickchart:hover {\n",
              "    background-color: var(--hover-bg-color);\n",
              "    box-shadow: 0 1px 2px rgba(60, 64, 67, 0.3), 0 1px 3px 1px rgba(60, 64, 67, 0.15);\n",
              "    fill: var(--button-hover-fill-color);\n",
              "  }\n",
              "\n",
              "  .colab-df-quickchart-complete:disabled,\n",
              "  .colab-df-quickchart-complete:disabled:hover {\n",
              "    background-color: var(--disabled-bg-color);\n",
              "    fill: var(--disabled-fill-color);\n",
              "    box-shadow: none;\n",
              "  }\n",
              "\n",
              "  .colab-df-spinner {\n",
              "    border: 2px solid var(--fill-color);\n",
              "    border-color: transparent;\n",
              "    border-bottom-color: var(--fill-color);\n",
              "    animation:\n",
              "      spin 1s steps(1) infinite;\n",
              "  }\n",
              "\n",
              "  @keyframes spin {\n",
              "    0% {\n",
              "      border-color: transparent;\n",
              "      border-bottom-color: var(--fill-color);\n",
              "      border-left-color: var(--fill-color);\n",
              "    }\n",
              "    20% {\n",
              "      border-color: transparent;\n",
              "      border-left-color: var(--fill-color);\n",
              "      border-top-color: var(--fill-color);\n",
              "    }\n",
              "    30% {\n",
              "      border-color: transparent;\n",
              "      border-left-color: var(--fill-color);\n",
              "      border-top-color: var(--fill-color);\n",
              "      border-right-color: var(--fill-color);\n",
              "    }\n",
              "    40% {\n",
              "      border-color: transparent;\n",
              "      border-right-color: var(--fill-color);\n",
              "      border-top-color: var(--fill-color);\n",
              "    }\n",
              "    60% {\n",
              "      border-color: transparent;\n",
              "      border-right-color: var(--fill-color);\n",
              "    }\n",
              "    80% {\n",
              "      border-color: transparent;\n",
              "      border-right-color: var(--fill-color);\n",
              "      border-bottom-color: var(--fill-color);\n",
              "    }\n",
              "    90% {\n",
              "      border-color: transparent;\n",
              "      border-bottom-color: var(--fill-color);\n",
              "    }\n",
              "  }\n",
              "</style>\n",
              "\n",
              "  <script>\n",
              "    async function quickchart(key) {\n",
              "      const quickchartButtonEl =\n",
              "        document.querySelector('#' + key + ' button');\n",
              "      quickchartButtonEl.disabled = true;  // To prevent multiple clicks.\n",
              "      quickchartButtonEl.classList.add('colab-df-spinner');\n",
              "      try {\n",
              "        const charts = await google.colab.kernel.invokeFunction(\n",
              "            'suggestCharts', [key], {});\n",
              "      } catch (error) {\n",
              "        console.error('Error during call to suggestCharts:', error);\n",
              "      }\n",
              "      quickchartButtonEl.classList.remove('colab-df-spinner');\n",
              "      quickchartButtonEl.classList.add('colab-df-quickchart-complete');\n",
              "    }\n",
              "    (() => {\n",
              "      let quickchartButtonEl =\n",
              "        document.querySelector('#df-20526502-1164-45b4-992e-335b0546c0bf button');\n",
              "      quickchartButtonEl.style.display =\n",
              "        google.colab.kernel.accessAllowed ? 'block' : 'none';\n",
              "    })();\n",
              "  </script>\n",
              "</div>\n",
              "    </div>\n",
              "  </div>\n"
            ]
          },
          "metadata": {},
          "execution_count": 27
        }
      ]
    },
    {
      "cell_type": "markdown",
      "source": [
        "### alter predicted date to be the next day (after last day)"
      ],
      "metadata": {
        "id": "Dl7MeVTCP0cT"
      }
    },
    {
      "cell_type": "code",
      "source": [
        "# Convert 'end' to a datetime object\n",
        "end_date = datetime.strptime(end, '%Y-%m-%d')\n",
        "\n",
        "# Add two days to 'end_date'\n",
        "pred_date = end_date + timedelta(days=0)\n",
        "\n",
        "# Convert 'pred_date' back to a string in the 'YYYY-MM-DD' format\n",
        "pred_date = pred_date.strftime('%Y-%m-%d')\n",
        "\n",
        "print(pred_date)"
      ],
      "metadata": {
        "colab": {
          "base_uri": "https://localhost:8080/"
        },
        "id": "7RzfSb-A5EI3",
        "outputId": "839b8e3e-2949-40cf-93d6-38bb111e14ca"
      },
      "execution_count": null,
      "outputs": [
        {
          "output_type": "stream",
          "name": "stdout",
          "text": [
            "2023-09-19\n"
          ]
        }
      ]
    },
    {
      "cell_type": "markdown",
      "source": [
        "### predict closing price for next day"
      ],
      "metadata": {
        "id": "773HzIYvQDhO"
      }
    },
    {
      "cell_type": "code",
      "metadata": {
        "id": "AvfOgfQVZH_X",
        "colab": {
          "base_uri": "https://localhost:8080/"
        },
        "outputId": "9ed5af28-6cbc-4ddf-bcdf-c1b4d1047163"
      },
      "source": [
        "# quote market stock price\n",
        "quote1 = pdr.DataReader(tag,start,pred_date)\n",
        "\n",
        "# create new data frame (df)\n",
        "newdf = quote1.filter(['Adj Close']) #was close\n",
        "\n",
        "# get the last 60-day closing price values and convert the dataframe to an array\n",
        "post60 = newdf[-60:].values #tailed 60 ct. entires from close column, unique array conversion (was -60:)\n",
        "\n",
        "# scale the data to be values to between 0 and 1\n",
        "post60scaled = scaler.transform(post60)\n",
        "\n",
        "# create emply list\n",
        "testx = []\n",
        "\n",
        "# append the past 60 days data\n",
        "testx.append(post60scaled)\n",
        "\n",
        "# convert the testx data set to a np array\n",
        "testx = np.array(testx)\n",
        "\n",
        "# reshape dataframe\n",
        "testx = np.reshape(testx, (testx.shape[0], testx.shape[1],1)) # scaled post60 sample set,\n",
        "\n",
        "# get predicted scaled price\n",
        "predprice = model.predict(testx)\n",
        "\n",
        "# undo the scaling\n",
        "predprice = scaler.inverse_transform(predprice)\n",
        "print(f'The predicted price for the next day, {pred_date}, is: ${predprice[0][0]:.3f}')\n",
        "\n",
        "# Calculate the last closing price from quote_df\n",
        "last_close_price = quote_df['Adj Close'].iloc[-1]  # Assuming 'Adj Close' is the column name\n",
        "\n",
        "# print latest close price\n",
        "print(f'The latest close price for the given day, {entered_end}, is: ${last_close_price:.3f}')\n",
        "\n",
        "# Calculate the percentage difference\n",
        "percentage_difference = ((predprice[0][0] - last_close_price) / last_close_price) * 100\n",
        "\n",
        "# Check if the percentage difference is positive, negative, or zero\n",
        "if percentage_difference > 0:\n",
        "    direction = \"positive\"\n",
        "elif percentage_difference < 0:\n",
        "    direction = \"negative\"\n",
        "else:\n",
        "    direction = \"no change\"\n",
        "\n",
        "print(f'The percentage difference from the last close price is: {percentage_difference:.2f}%, which is a {direction} change.')"
      ],
      "execution_count": null,
      "outputs": [
        {
          "output_type": "stream",
          "name": "stdout",
          "text": [
            "[*********************100%%**********************]  1 of 1 completed\n",
            "1/1 [==============================] - 0s 126ms/step\n",
            "The predicted price for the next day, 2023-09-19, is: $7.122\n",
            "The latest close price for the given day, 2023-09-18, is: $6.830\n",
            "The percentage difference from the last close price is: 4.28%, which is a positive change.\n"
          ]
        }
      ]
    },
    {
      "cell_type": "markdown",
      "source": [
        "### compare to end date"
      ],
      "metadata": {
        "id": "D8lFL3Q6QILW"
      }
    },
    {
      "cell_type": "code",
      "metadata": {
        "id": "aa_ayD9KbYEi",
        "colab": {
          "base_uri": "https://localhost:8080/",
          "height": 472
        },
        "outputId": "fddf1f19-d12c-4acb-e4a8-61b91d2497ff"
      },
      "source": [
        "quote_df2 = pdr.DataReader(tag,start,end)\n",
        "quote_df2"
      ],
      "execution_count": null,
      "outputs": [
        {
          "output_type": "stream",
          "name": "stdout",
          "text": [
            "\r[*********************100%%**********************]  1 of 1 completed\n"
          ]
        },
        {
          "output_type": "execute_result",
          "data": {
            "text/plain": [
              "            Open   High    Low  Close  Adj Close    Volume\n",
              "Date                                                      \n",
              "2023-02-06  4.65  4.670  4.390   4.42       4.42   3110200\n",
              "2023-02-07  4.46  4.480  4.210   4.42       4.42   2898700\n",
              "2023-02-08  4.38  4.440  4.305   4.36       4.36   1875300\n",
              "2023-02-09  4.47  4.575  4.210   4.22       4.22   2250200\n",
              "2023-02-10  4.21  4.219  4.095   4.20       4.20   1599400\n",
              "...          ...    ...    ...    ...        ...       ...\n",
              "2023-09-12  7.20  7.310  6.980   6.99       6.99   3565600\n",
              "2023-09-13  6.96  7.045  6.870   6.88       6.88   4684700\n",
              "2023-09-14  6.90  7.000  6.780   6.94       6.94   4972100\n",
              "2023-09-15  6.85  6.915  6.450   6.54       6.54  12268300\n",
              "2023-09-18  6.72  7.050  6.550   6.83       6.83   9825352\n",
              "\n",
              "[155 rows x 6 columns]"
            ],
            "text/html": [
              "\n",
              "  <div id=\"df-61b964d8-0781-4614-8a59-a0b94661b207\" class=\"colab-df-container\">\n",
              "    <div>\n",
              "<style scoped>\n",
              "    .dataframe tbody tr th:only-of-type {\n",
              "        vertical-align: middle;\n",
              "    }\n",
              "\n",
              "    .dataframe tbody tr th {\n",
              "        vertical-align: top;\n",
              "    }\n",
              "\n",
              "    .dataframe thead th {\n",
              "        text-align: right;\n",
              "    }\n",
              "</style>\n",
              "<table border=\"1\" class=\"dataframe\">\n",
              "  <thead>\n",
              "    <tr style=\"text-align: right;\">\n",
              "      <th></th>\n",
              "      <th>Open</th>\n",
              "      <th>High</th>\n",
              "      <th>Low</th>\n",
              "      <th>Close</th>\n",
              "      <th>Adj Close</th>\n",
              "      <th>Volume</th>\n",
              "    </tr>\n",
              "    <tr>\n",
              "      <th>Date</th>\n",
              "      <th></th>\n",
              "      <th></th>\n",
              "      <th></th>\n",
              "      <th></th>\n",
              "      <th></th>\n",
              "      <th></th>\n",
              "    </tr>\n",
              "  </thead>\n",
              "  <tbody>\n",
              "    <tr>\n",
              "      <th>2023-02-06</th>\n",
              "      <td>4.65</td>\n",
              "      <td>4.670</td>\n",
              "      <td>4.390</td>\n",
              "      <td>4.42</td>\n",
              "      <td>4.42</td>\n",
              "      <td>3110200</td>\n",
              "    </tr>\n",
              "    <tr>\n",
              "      <th>2023-02-07</th>\n",
              "      <td>4.46</td>\n",
              "      <td>4.480</td>\n",
              "      <td>4.210</td>\n",
              "      <td>4.42</td>\n",
              "      <td>4.42</td>\n",
              "      <td>2898700</td>\n",
              "    </tr>\n",
              "    <tr>\n",
              "      <th>2023-02-08</th>\n",
              "      <td>4.38</td>\n",
              "      <td>4.440</td>\n",
              "      <td>4.305</td>\n",
              "      <td>4.36</td>\n",
              "      <td>4.36</td>\n",
              "      <td>1875300</td>\n",
              "    </tr>\n",
              "    <tr>\n",
              "      <th>2023-02-09</th>\n",
              "      <td>4.47</td>\n",
              "      <td>4.575</td>\n",
              "      <td>4.210</td>\n",
              "      <td>4.22</td>\n",
              "      <td>4.22</td>\n",
              "      <td>2250200</td>\n",
              "    </tr>\n",
              "    <tr>\n",
              "      <th>2023-02-10</th>\n",
              "      <td>4.21</td>\n",
              "      <td>4.219</td>\n",
              "      <td>4.095</td>\n",
              "      <td>4.20</td>\n",
              "      <td>4.20</td>\n",
              "      <td>1599400</td>\n",
              "    </tr>\n",
              "    <tr>\n",
              "      <th>...</th>\n",
              "      <td>...</td>\n",
              "      <td>...</td>\n",
              "      <td>...</td>\n",
              "      <td>...</td>\n",
              "      <td>...</td>\n",
              "      <td>...</td>\n",
              "    </tr>\n",
              "    <tr>\n",
              "      <th>2023-09-12</th>\n",
              "      <td>7.20</td>\n",
              "      <td>7.310</td>\n",
              "      <td>6.980</td>\n",
              "      <td>6.99</td>\n",
              "      <td>6.99</td>\n",
              "      <td>3565600</td>\n",
              "    </tr>\n",
              "    <tr>\n",
              "      <th>2023-09-13</th>\n",
              "      <td>6.96</td>\n",
              "      <td>7.045</td>\n",
              "      <td>6.870</td>\n",
              "      <td>6.88</td>\n",
              "      <td>6.88</td>\n",
              "      <td>4684700</td>\n",
              "    </tr>\n",
              "    <tr>\n",
              "      <th>2023-09-14</th>\n",
              "      <td>6.90</td>\n",
              "      <td>7.000</td>\n",
              "      <td>6.780</td>\n",
              "      <td>6.94</td>\n",
              "      <td>6.94</td>\n",
              "      <td>4972100</td>\n",
              "    </tr>\n",
              "    <tr>\n",
              "      <th>2023-09-15</th>\n",
              "      <td>6.85</td>\n",
              "      <td>6.915</td>\n",
              "      <td>6.450</td>\n",
              "      <td>6.54</td>\n",
              "      <td>6.54</td>\n",
              "      <td>12268300</td>\n",
              "    </tr>\n",
              "    <tr>\n",
              "      <th>2023-09-18</th>\n",
              "      <td>6.72</td>\n",
              "      <td>7.050</td>\n",
              "      <td>6.550</td>\n",
              "      <td>6.83</td>\n",
              "      <td>6.83</td>\n",
              "      <td>9825352</td>\n",
              "    </tr>\n",
              "  </tbody>\n",
              "</table>\n",
              "<p>155 rows × 6 columns</p>\n",
              "</div>\n",
              "    <div class=\"colab-df-buttons\">\n",
              "\n",
              "  <div class=\"colab-df-container\">\n",
              "    <button class=\"colab-df-convert\" onclick=\"convertToInteractive('df-61b964d8-0781-4614-8a59-a0b94661b207')\"\n",
              "            title=\"Convert this dataframe to an interactive table.\"\n",
              "            style=\"display:none;\">\n",
              "\n",
              "  <svg xmlns=\"http://www.w3.org/2000/svg\" height=\"24px\" viewBox=\"0 -960 960 960\">\n",
              "    <path d=\"M120-120v-720h720v720H120Zm60-500h600v-160H180v160Zm220 220h160v-160H400v160Zm0 220h160v-160H400v160ZM180-400h160v-160H180v160Zm440 0h160v-160H620v160ZM180-180h160v-160H180v160Zm440 0h160v-160H620v160Z\"/>\n",
              "  </svg>\n",
              "    </button>\n",
              "\n",
              "  <style>\n",
              "    .colab-df-container {\n",
              "      display:flex;\n",
              "      gap: 12px;\n",
              "    }\n",
              "\n",
              "    .colab-df-convert {\n",
              "      background-color: #E8F0FE;\n",
              "      border: none;\n",
              "      border-radius: 50%;\n",
              "      cursor: pointer;\n",
              "      display: none;\n",
              "      fill: #1967D2;\n",
              "      height: 32px;\n",
              "      padding: 0 0 0 0;\n",
              "      width: 32px;\n",
              "    }\n",
              "\n",
              "    .colab-df-convert:hover {\n",
              "      background-color: #E2EBFA;\n",
              "      box-shadow: 0px 1px 2px rgba(60, 64, 67, 0.3), 0px 1px 3px 1px rgba(60, 64, 67, 0.15);\n",
              "      fill: #174EA6;\n",
              "    }\n",
              "\n",
              "    .colab-df-buttons div {\n",
              "      margin-bottom: 4px;\n",
              "    }\n",
              "\n",
              "    [theme=dark] .colab-df-convert {\n",
              "      background-color: #3B4455;\n",
              "      fill: #D2E3FC;\n",
              "    }\n",
              "\n",
              "    [theme=dark] .colab-df-convert:hover {\n",
              "      background-color: #434B5C;\n",
              "      box-shadow: 0px 1px 3px 1px rgba(0, 0, 0, 0.15);\n",
              "      filter: drop-shadow(0px 1px 2px rgba(0, 0, 0, 0.3));\n",
              "      fill: #FFFFFF;\n",
              "    }\n",
              "  </style>\n",
              "\n",
              "    <script>\n",
              "      const buttonEl =\n",
              "        document.querySelector('#df-61b964d8-0781-4614-8a59-a0b94661b207 button.colab-df-convert');\n",
              "      buttonEl.style.display =\n",
              "        google.colab.kernel.accessAllowed ? 'block' : 'none';\n",
              "\n",
              "      async function convertToInteractive(key) {\n",
              "        const element = document.querySelector('#df-61b964d8-0781-4614-8a59-a0b94661b207');\n",
              "        const dataTable =\n",
              "          await google.colab.kernel.invokeFunction('convertToInteractive',\n",
              "                                                    [key], {});\n",
              "        if (!dataTable) return;\n",
              "\n",
              "        const docLinkHtml = 'Like what you see? Visit the ' +\n",
              "          '<a target=\"_blank\" href=https://colab.research.google.com/notebooks/data_table.ipynb>data table notebook</a>'\n",
              "          + ' to learn more about interactive tables.';\n",
              "        element.innerHTML = '';\n",
              "        dataTable['output_type'] = 'display_data';\n",
              "        await google.colab.output.renderOutput(dataTable, element);\n",
              "        const docLink = document.createElement('div');\n",
              "        docLink.innerHTML = docLinkHtml;\n",
              "        element.appendChild(docLink);\n",
              "      }\n",
              "    </script>\n",
              "  </div>\n",
              "\n",
              "\n",
              "<div id=\"df-0e04acf6-a43b-46fa-8592-532ab759128e\">\n",
              "  <button class=\"colab-df-quickchart\" onclick=\"quickchart('df-0e04acf6-a43b-46fa-8592-532ab759128e')\"\n",
              "            title=\"Suggest charts.\"\n",
              "            style=\"display:none;\">\n",
              "\n",
              "<svg xmlns=\"http://www.w3.org/2000/svg\" height=\"24px\"viewBox=\"0 0 24 24\"\n",
              "     width=\"24px\">\n",
              "    <g>\n",
              "        <path d=\"M19 3H5c-1.1 0-2 .9-2 2v14c0 1.1.9 2 2 2h14c1.1 0 2-.9 2-2V5c0-1.1-.9-2-2-2zM9 17H7v-7h2v7zm4 0h-2V7h2v10zm4 0h-2v-4h2v4z\"/>\n",
              "    </g>\n",
              "</svg>\n",
              "  </button>\n",
              "\n",
              "<style>\n",
              "  .colab-df-quickchart {\n",
              "      --bg-color: #E8F0FE;\n",
              "      --fill-color: #1967D2;\n",
              "      --hover-bg-color: #E2EBFA;\n",
              "      --hover-fill-color: #174EA6;\n",
              "      --disabled-fill-color: #AAA;\n",
              "      --disabled-bg-color: #DDD;\n",
              "  }\n",
              "\n",
              "  [theme=dark] .colab-df-quickchart {\n",
              "      --bg-color: #3B4455;\n",
              "      --fill-color: #D2E3FC;\n",
              "      --hover-bg-color: #434B5C;\n",
              "      --hover-fill-color: #FFFFFF;\n",
              "      --disabled-bg-color: #3B4455;\n",
              "      --disabled-fill-color: #666;\n",
              "  }\n",
              "\n",
              "  .colab-df-quickchart {\n",
              "    background-color: var(--bg-color);\n",
              "    border: none;\n",
              "    border-radius: 50%;\n",
              "    cursor: pointer;\n",
              "    display: none;\n",
              "    fill: var(--fill-color);\n",
              "    height: 32px;\n",
              "    padding: 0;\n",
              "    width: 32px;\n",
              "  }\n",
              "\n",
              "  .colab-df-quickchart:hover {\n",
              "    background-color: var(--hover-bg-color);\n",
              "    box-shadow: 0 1px 2px rgba(60, 64, 67, 0.3), 0 1px 3px 1px rgba(60, 64, 67, 0.15);\n",
              "    fill: var(--button-hover-fill-color);\n",
              "  }\n",
              "\n",
              "  .colab-df-quickchart-complete:disabled,\n",
              "  .colab-df-quickchart-complete:disabled:hover {\n",
              "    background-color: var(--disabled-bg-color);\n",
              "    fill: var(--disabled-fill-color);\n",
              "    box-shadow: none;\n",
              "  }\n",
              "\n",
              "  .colab-df-spinner {\n",
              "    border: 2px solid var(--fill-color);\n",
              "    border-color: transparent;\n",
              "    border-bottom-color: var(--fill-color);\n",
              "    animation:\n",
              "      spin 1s steps(1) infinite;\n",
              "  }\n",
              "\n",
              "  @keyframes spin {\n",
              "    0% {\n",
              "      border-color: transparent;\n",
              "      border-bottom-color: var(--fill-color);\n",
              "      border-left-color: var(--fill-color);\n",
              "    }\n",
              "    20% {\n",
              "      border-color: transparent;\n",
              "      border-left-color: var(--fill-color);\n",
              "      border-top-color: var(--fill-color);\n",
              "    }\n",
              "    30% {\n",
              "      border-color: transparent;\n",
              "      border-left-color: var(--fill-color);\n",
              "      border-top-color: var(--fill-color);\n",
              "      border-right-color: var(--fill-color);\n",
              "    }\n",
              "    40% {\n",
              "      border-color: transparent;\n",
              "      border-right-color: var(--fill-color);\n",
              "      border-top-color: var(--fill-color);\n",
              "    }\n",
              "    60% {\n",
              "      border-color: transparent;\n",
              "      border-right-color: var(--fill-color);\n",
              "    }\n",
              "    80% {\n",
              "      border-color: transparent;\n",
              "      border-right-color: var(--fill-color);\n",
              "      border-bottom-color: var(--fill-color);\n",
              "    }\n",
              "    90% {\n",
              "      border-color: transparent;\n",
              "      border-bottom-color: var(--fill-color);\n",
              "    }\n",
              "  }\n",
              "</style>\n",
              "\n",
              "  <script>\n",
              "    async function quickchart(key) {\n",
              "      const quickchartButtonEl =\n",
              "        document.querySelector('#' + key + ' button');\n",
              "      quickchartButtonEl.disabled = true;  // To prevent multiple clicks.\n",
              "      quickchartButtonEl.classList.add('colab-df-spinner');\n",
              "      try {\n",
              "        const charts = await google.colab.kernel.invokeFunction(\n",
              "            'suggestCharts', [key], {});\n",
              "      } catch (error) {\n",
              "        console.error('Error during call to suggestCharts:', error);\n",
              "      }\n",
              "      quickchartButtonEl.classList.remove('colab-df-spinner');\n",
              "      quickchartButtonEl.classList.add('colab-df-quickchart-complete');\n",
              "    }\n",
              "    (() => {\n",
              "      let quickchartButtonEl =\n",
              "        document.querySelector('#df-0e04acf6-a43b-46fa-8592-532ab759128e button');\n",
              "      quickchartButtonEl.style.display =\n",
              "        google.colab.kernel.accessAllowed ? 'block' : 'none';\n",
              "    })();\n",
              "  </script>\n",
              "</div>\n",
              "    </div>\n",
              "  </div>\n"
            ]
          },
          "metadata": {},
          "execution_count": 30
        }
      ]
    }
  ]
}